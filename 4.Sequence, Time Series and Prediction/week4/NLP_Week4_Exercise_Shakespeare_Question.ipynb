{
  "nbformat": 4,
  "nbformat_minor": 0,
  "metadata": {
    "accelerator": "GPU",
    "colab": {
      "name": "NLP_Week4_Exercise_Shakespeare_Question.ipynb",
      "provenance": [],
      "toc_visible": true
    },
    "kernelspec": {
      "display_name": "Python 3",
      "name": "python3"
    }
  },
  "cells": [
    {
      "cell_type": "code",
      "metadata": {
        "id": "zX4Kg8DUTKWO",
        "colab_type": "code",
        "colab": {}
      },
      "source": [
        "#@title Licensed under the Apache License, Version 2.0 (the \"License\");\n",
        "# you may not use this file except in compliance with the License.\n",
        "# You may obtain a copy of the License at\n",
        "#\n",
        "# https://www.apache.org/licenses/LICENSE-2.0\n",
        "#\n",
        "# Unless required by applicable law or agreed to in writing, software\n",
        "# distributed under the License is distributed on an \"AS IS\" BASIS,\n",
        "# WITHOUT WARRANTIES OR CONDITIONS OF ANY KIND, either express or implied.\n",
        "# See the License for the specific language governing permissions and\n",
        "# limitations under the License."
      ],
      "execution_count": null,
      "outputs": []
    },
    {
      "cell_type": "code",
      "metadata": {
        "colab_type": "code",
        "id": "BOwsuGQQY9OL",
        "colab": {}
      },
      "source": [
        "from tensorflow.keras.preprocessing.sequence import pad_sequences\n",
        "from tensorflow.keras.layers import Embedding, LSTM, Dense, Dropout, Bidirectional\n",
        "from tensorflow.keras.preprocessing.text import Tokenizer\n",
        "from tensorflow.keras.models import Sequential\n",
        "from tensorflow.keras.optimizers import Adam\n",
        "### YOUR CODE HERE\n",
        "from tensorflow.keras import regularizers\n",
        "###\n",
        "import tensorflow.keras.utils as ku \n",
        "import numpy as np "
      ],
      "execution_count": 1,
      "outputs": []
    },
    {
      "cell_type": "code",
      "metadata": {
        "colab_type": "code",
        "id": "PRnDnCW-Z7qv",
        "colab": {
          "base_uri": "https://localhost:8080/",
          "height": 224
        },
        "outputId": "4bcd53b5-020c-4772-a4bc-a5696e009a1b"
      },
      "source": [
        "tokenizer = Tokenizer()\n",
        "!wget --no-check-certificate \\\n",
        "    https://storage.googleapis.com/laurencemoroney-blog.appspot.com/sonnets.txt \\\n",
        "    -O /tmp/sonnets.txt\n",
        "data = open('/tmp/sonnets.txt').read()\n",
        "\n",
        "corpus = data.lower().split(\"\\n\")\n",
        "\n",
        "\n",
        "tokenizer.fit_on_texts(corpus)\n",
        "total_words = len(tokenizer.word_index) + 1\n",
        "\n",
        "# create input sequences using list of tokens\n",
        "input_sequences = []\n",
        "for line in corpus:\n",
        "\ttoken_list = tokenizer.texts_to_sequences([line])[0]\n",
        "\tfor i in range(1, len(token_list)):\n",
        "\t\tn_gram_sequence = token_list[:i+1]\n",
        "\t\tinput_sequences.append(n_gram_sequence)\n",
        "\n",
        "\n",
        "# pad sequences \n",
        "max_sequence_len = max([len(x) for x in input_sequences])\n",
        "input_sequences = np.array(pad_sequences(input_sequences, maxlen=max_sequence_len, padding='pre'))\n",
        "\n",
        "# create predictors and label\n",
        "predictors, label = input_sequences[:,:-1],input_sequences[:,-1]\n",
        "\n",
        "label = ku.to_categorical(label, num_classes=total_words)"
      ],
      "execution_count": 2,
      "outputs": [
        {
          "output_type": "stream",
          "text": [
            "--2020-08-23 13:31:58--  https://storage.googleapis.com/laurencemoroney-blog.appspot.com/sonnets.txt\n",
            "Resolving storage.googleapis.com (storage.googleapis.com)... 172.217.193.128, 172.217.204.128, 172.217.203.128, ...\n",
            "Connecting to storage.googleapis.com (storage.googleapis.com)|172.217.193.128|:443... connected.\n",
            "HTTP request sent, awaiting response... 200 OK\n",
            "Length: 93578 (91K) [text/plain]\n",
            "Saving to: ‘/tmp/sonnets.txt’\n",
            "\n",
            "\r/tmp/sonnets.txt      0%[                    ]       0  --.-KB/s               \r/tmp/sonnets.txt    100%[===================>]  91.38K  --.-KB/s    in 0.001s  \n",
            "\n",
            "2020-08-23 13:31:58 (88.1 MB/s) - ‘/tmp/sonnets.txt’ saved [93578/93578]\n",
            "\n"
          ],
          "name": "stdout"
        }
      ]
    },
    {
      "cell_type": "code",
      "metadata": {
        "id": "ioy9dGFQnqq7",
        "colab_type": "code",
        "colab": {
          "base_uri": "https://localhost:8080/",
          "height": 1000
        },
        "outputId": "b71d81ba-128b-4f3d-be53-1224acc4df45"
      },
      "source": [
        "corpus[:100]"
      ],
      "execution_count": 14,
      "outputs": [
        {
          "output_type": "execute_result",
          "data": {
            "text/plain": [
              "['from fairest creatures we desire increase,',\n",
              " \"that thereby beauty's rose might never die,\",\n",
              " 'but as the riper should by time decease,',\n",
              " 'his tender heir might bear his memory:',\n",
              " 'but thou, contracted to thine own bright eyes,',\n",
              " \"feed'st thy light'st flame with self-substantial fuel,\",\n",
              " 'making a famine where abundance lies,',\n",
              " 'thyself thy foe, to thy sweet self too cruel.',\n",
              " \"thou that art now the world's fresh ornament\",\n",
              " 'and only herald to the gaudy spring,',\n",
              " 'within thine own bud buriest thy content',\n",
              " 'and, tender churl, makest waste in niggarding.',\n",
              " 'pity the world, or else this glutton be,',\n",
              " \"to eat the world's due, by the grave and thee.\",\n",
              " 'when forty winters shall beseige thy brow,',\n",
              " \"and dig deep trenches in thy beauty's field,\",\n",
              " \"thy youth's proud livery, so gazed on now,\",\n",
              " \"will be a tatter'd weed, of small worth held:\",\n",
              " \"then being ask'd where all thy beauty lies,\",\n",
              " 'where all the treasure of thy lusty days,',\n",
              " 'to say, within thine own deep-sunken eyes,',\n",
              " 'were an all-eating shame and thriftless praise.',\n",
              " \"how much more praise deserved thy beauty's use,\",\n",
              " \"if thou couldst answer 'this fair child of mine\",\n",
              " \"shall sum my count and make my old excuse,'\",\n",
              " 'proving his beauty by succession thine!',\n",
              " 'this were to be new made when thou art old,',\n",
              " \"and see thy blood warm when thou feel'st it cold.\",\n",
              " 'look in thy glass, and tell the face thou viewest',\n",
              " 'now is the time that face should form another;',\n",
              " 'whose fresh repair if now thou not renewest,',\n",
              " 'thou dost beguile the world, unbless some mother.',\n",
              " \"for where is she so fair whose unear'd womb\",\n",
              " 'disdains the tillage of thy husbandry?',\n",
              " 'or who is he so fond will be the tomb',\n",
              " 'of his self-love, to stop posterity?',\n",
              " \"thou art thy mother's glass, and she in thee\",\n",
              " 'calls back the lovely april of her prime:',\n",
              " 'so thou through windows of thine age shall see',\n",
              " 'despite of wrinkles this thy golden time.',\n",
              " \"but if thou live, remember'd not to be,\",\n",
              " 'die single, and thine image dies with thee.',\n",
              " 'unthrifty loveliness, why dost thou spend',\n",
              " \"upon thyself thy beauty's legacy?\",\n",
              " \"nature's bequest gives nothing but doth lend,\",\n",
              " 'and being frank she lends to those are free.',\n",
              " 'then, beauteous niggard, why dost thou abuse',\n",
              " 'the bounteous largess given thee to give?',\n",
              " 'profitless usurer, why dost thou use',\n",
              " 'so great a sum of sums, yet canst not live?',\n",
              " 'for having traffic with thyself alone,',\n",
              " 'thou of thyself thy sweet self dost deceive.',\n",
              " 'then how, when nature calls thee to be gone,',\n",
              " 'what acceptable audit canst thou leave?',\n",
              " \"thy unused beauty must be tomb'd with thee,\",\n",
              " \"which, used, lives th' executor to be.\",\n",
              " 'those hours, that with gentle work did frame',\n",
              " 'the lovely gaze where every eye doth dwell,',\n",
              " 'will play the tyrants to the very same',\n",
              " 'and that unfair which fairly doth excel:',\n",
              " 'for never-resting time leads summer on',\n",
              " 'to hideous winter and confounds him there;',\n",
              " \"sap check'd with frost and lusty leaves quite gone,\",\n",
              " \"beauty o'ersnow'd and bareness every where:\",\n",
              " \"then, were not summer's distillation left,\",\n",
              " 'a liquid prisoner pent in walls of glass,',\n",
              " \"beauty's effect with beauty were bereft,\",\n",
              " 'nor it nor no remembrance what it was:',\n",
              " \"but flowers distill'd though they with winter meet,\",\n",
              " 'leese but their show; their substance still lives sweet.',\n",
              " \"then let not winter's ragged hand deface\",\n",
              " \"in thee thy summer, ere thou be distill'd:\",\n",
              " 'make sweet some vial; treasure thou some place',\n",
              " \"with beauty's treasure, ere it be self-kill'd.\",\n",
              " 'that use is not forbidden usury,',\n",
              " 'which happies those that pay the willing loan;',\n",
              " \"that's for thyself to breed another thee,\",\n",
              " 'or ten times happier, be it ten for one;',\n",
              " 'ten times thyself were happier than thou art,',\n",
              " 'if ten of thine ten times refigured thee:',\n",
              " 'then what could death do, if thou shouldst depart,',\n",
              " 'leaving thee living in posterity?',\n",
              " \"be not self-will'd, for thou art much too fair\",\n",
              " \"to be death's conquest and make worms thine heir.\",\n",
              " 'lo! in the orient when the gracious light',\n",
              " 'lifts up his burning head, each under eye',\n",
              " 'doth homage to his new-appearing sight,',\n",
              " 'serving with looks his sacred majesty;',\n",
              " \"and having climb'd the steep-up heavenly hill,\",\n",
              " 'resembling strong youth in his middle age,',\n",
              " 'yet mortal looks adore his beauty still,',\n",
              " 'attending on his golden pilgrimage;',\n",
              " 'but when from highmost pitch, with weary car,',\n",
              " 'like feeble age, he reeleth from the day,',\n",
              " \"the eyes, 'fore duteous, now converted are\",\n",
              " 'from his low tract and look another way:',\n",
              " 'so thou, thyself out-going in thy noon,',\n",
              " \"unlook'd on diest, unless thou get a son.\",\n",
              " \"music to hear, why hear'st thou music sadly?\",\n",
              " 'sweets with sweets war not, joy delights in joy.']"
            ]
          },
          "metadata": {
            "tags": []
          },
          "execution_count": 14
        }
      ]
    },
    {
      "cell_type": "code",
      "metadata": {
        "id": "kpfpdtLiiTAE",
        "colab_type": "code",
        "colab": {
          "base_uri": "https://localhost:8080/",
          "height": 34
        },
        "outputId": "1e53bf89-8e3d-42c1-a121-f34f7e2de208"
      },
      "source": [
        "total_words"
      ],
      "execution_count": 3,
      "outputs": [
        {
          "output_type": "execute_result",
          "data": {
            "text/plain": [
              "3211"
            ]
          },
          "metadata": {
            "tags": []
          },
          "execution_count": 3
        }
      ]
    },
    {
      "cell_type": "code",
      "metadata": {
        "colab_type": "code",
        "id": "w9vH8Y59ajYL",
        "colab": {
          "base_uri": "https://localhost:8080/",
          "height": 374
        },
        "outputId": "0b2c810b-410b-49b6-f33e-24d5d6603d9e"
      },
      "source": [
        "model = Sequential()\n",
        "model.add(Embedding(total_words, 100, input_length=max_sequence_len-1))\n",
        "model.add(LSTM(150, return_sequences=True))\n",
        "model.add(Dropout(0.2))\n",
        "model.add(LSTM(100))\n",
        "model.add(Dense(total_words/2, activation= 'relu', kernel_regularizer=regularizers.L1(0.01)))\n",
        "model.add(Dense(total_words, activation='softmax'))\n",
        "# Pick an optimizer\n",
        "adam = Adam(lr=0.01)\n",
        "model.compile(loss='categorical_crossentropy', optimizer='adam', metrics=['accuracy'])\n",
        "print(model.summary())\n"
      ],
      "execution_count": 7,
      "outputs": [
        {
          "output_type": "stream",
          "text": [
            "Model: \"sequential_2\"\n",
            "_________________________________________________________________\n",
            "Layer (type)                 Output Shape              Param #   \n",
            "=================================================================\n",
            "embedding_2 (Embedding)      (None, 10, 100)           321100    \n",
            "_________________________________________________________________\n",
            "lstm_4 (LSTM)                (None, 10, 150)           150600    \n",
            "_________________________________________________________________\n",
            "dropout_2 (Dropout)          (None, 10, 150)           0         \n",
            "_________________________________________________________________\n",
            "lstm_5 (LSTM)                (None, 100)               100400    \n",
            "_________________________________________________________________\n",
            "dense_2 (Dense)              (None, 1605)              162105    \n",
            "_________________________________________________________________\n",
            "dense_3 (Dense)              (None, 3211)              5156866   \n",
            "=================================================================\n",
            "Total params: 5,891,071\n",
            "Trainable params: 5,891,071\n",
            "Non-trainable params: 0\n",
            "_________________________________________________________________\n",
            "None\n"
          ],
          "name": "stdout"
        }
      ]
    },
    {
      "cell_type": "code",
      "metadata": {
        "colab_type": "code",
        "id": "AIg2f1HBxqof",
        "colab": {
          "base_uri": "https://localhost:8080/",
          "height": 289
        },
        "outputId": "9ecaf9c1-8203-4362-b3ab-40a5fa6cb5aa"
      },
      "source": [
        " import tensorflow as tf \n",
        " callback = tf.keras.callbacks.EarlyStopping(monitor='loss', min_delta=0, patience=5, verbose=0, mode='auto')\n",
        " history = model.fit(predictors, label, epochs=100, verbose=1, callbacks=[callback])"
      ],
      "execution_count": 9,
      "outputs": [
        {
          "output_type": "stream",
          "text": [
            "Epoch 1/100\n",
            "484/484 [==============================] - 10s 20ms/step - loss: 9.2240 - accuracy: 0.0210\n",
            "Epoch 2/100\n",
            "484/484 [==============================] - 10s 20ms/step - loss: 6.7784 - accuracy: 0.0223\n",
            "Epoch 3/100\n",
            "484/484 [==============================] - 10s 20ms/step - loss: 6.7617 - accuracy: 0.0216\n",
            "Epoch 4/100\n",
            "484/484 [==============================] - 10s 20ms/step - loss: 6.7629 - accuracy: 0.0233\n",
            "Epoch 5/100\n",
            "484/484 [==============================] - 10s 20ms/step - loss: 6.7647 - accuracy: 0.0204\n",
            "Epoch 6/100\n",
            "484/484 [==============================] - 10s 20ms/step - loss: 6.7666 - accuracy: 0.0202\n",
            "Epoch 7/100\n",
            "484/484 [==============================] - 10s 20ms/step - loss: 6.7635 - accuracy: 0.0218\n",
            "Epoch 8/100\n",
            "484/484 [==============================] - 10s 20ms/step - loss: 6.7675 - accuracy: 0.0215\n"
          ],
          "name": "stdout"
        }
      ]
    },
    {
      "cell_type": "code",
      "metadata": {
        "colab_type": "code",
        "id": "1fXTEO3GJ282",
        "colab": {}
      },
      "source": [
        "import matplotlib.pyplot as plt\n",
        "acc = history.history['accuracy']\n",
        "loss = history.history['loss']\n",
        "\n",
        "epochs = range(len(acc))\n",
        "\n",
        "plt.plot(epochs, acc, 'b', label='Training accuracy')\n",
        "plt.title('Training accuracy')\n",
        "\n",
        "plt.figure()\n",
        "\n",
        "plt.plot(epochs, loss, 'b', label='Training Loss')\n",
        "plt.title('Training loss')\n",
        "plt.legend()\n",
        "\n",
        "plt.show()"
      ],
      "execution_count": null,
      "outputs": []
    },
    {
      "cell_type": "code",
      "metadata": {
        "colab_type": "code",
        "id": "6Vc6PHgxa6Hm",
        "colab": {}
      },
      "source": [
        "seed_text = \"Help me Obi Wan Kenobi, you're my only hope\"\n",
        "next_words = 100\n",
        "  \n",
        "for _ in range(next_words):\n",
        "\ttoken_list = tokenizer.texts_to_sequences([seed_text])[0]\n",
        "\ttoken_list = pad_sequences([token_list], maxlen=max_sequence_len-1, padding='pre')\n",
        "\tpredicted = model.predict_classes(token_list, verbose=0)\n",
        "\toutput_word = \"\"\n",
        "\tfor word, index in tokenizer.word_index.items():\n",
        "\t\tif index == predicted:\n",
        "\t\t\toutput_word = word\n",
        "\t\t\tbreak\n",
        "\tseed_text += \" \" + output_word\n",
        "print(seed_text)"
      ],
      "execution_count": null,
      "outputs": []
    }
  ]
}