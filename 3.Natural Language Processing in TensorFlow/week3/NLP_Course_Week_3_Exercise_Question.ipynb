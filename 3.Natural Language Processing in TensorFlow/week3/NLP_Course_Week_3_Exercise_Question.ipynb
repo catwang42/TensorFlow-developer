{
  "nbformat": 4,
  "nbformat_minor": 0,
  "metadata": {
    "accelerator": "GPU",
    "colab": {
      "name": "NLP Course - Week 3 Exercise Question.ipynb",
      "provenance": [],
      "toc_visible": true
    },
    "kernelspec": {
      "display_name": "Python 3",
      "name": "python3"
    }
  },
  "cells": [
    {
      "cell_type": "code",
      "metadata": {
        "id": "zX4Kg8DUTKWO",
        "colab_type": "code",
        "colab": {}
      },
      "source": [
        "#@title Licensed under the Apache License, Version 2.0 (the \"License\");\n",
        "# you may not use this file except in compliance with the License.\n",
        "# You may obtain a copy of the License at\n",
        "#\n",
        "# https://www.apache.org/licenses/LICENSE-2.0\n",
        "#\n",
        "# Unless required by applicable law or agreed to in writing, software\n",
        "# distributed under the License is distributed on an \"AS IS\" BASIS,\n",
        "# WITHOUT WARRANTIES OR CONDITIONS OF ANY KIND, either express or implied.\n",
        "# See the License for the specific language governing permissions and\n",
        "# limitations under the License."
      ],
      "execution_count": null,
      "outputs": []
    },
    {
      "cell_type": "code",
      "metadata": {
        "colab_type": "code",
        "id": "hmA6EzkQJ5jt",
        "colab": {}
      },
      "source": [
        "import json\n",
        "import tensorflow as tf\n",
        "import csv\n",
        "import random\n",
        "import numpy as np\n",
        "\n",
        "from tensorflow.keras.preprocessing.text import Tokenizer\n",
        "from tensorflow.keras.preprocessing.sequence import pad_sequences\n",
        "from tensorflow.keras.utils import to_categorical\n",
        "from tensorflow.keras import regularizers\n",
        "\n",
        "\n",
        "embedding_dim = 100\n",
        "max_length = 16\n",
        "trunc_type='post'\n",
        "padding_type='post'\n",
        "oov_tok = \"<OOV>\"\n",
        "training_size= 160000 #Your dataset size here. Experiment using smaller values (i.e. 16000), but don't forget to train on at least 160000 to see the best effects\n",
        "test_portion=.1\n",
        "\n",
        "corpus = []\n"
      ],
      "execution_count": 20,
      "outputs": []
    },
    {
      "cell_type": "code",
      "metadata": {
        "colab_type": "code",
        "id": "bM0l_dORKqE0",
        "colab": {
          "base_uri": "https://localhost:8080/",
          "height": 224
        },
        "outputId": "330337ce-6de2-4163-8c7d-907497e8208c"
      },
      "source": [
        "# Note that I cleaned the Stanford dataset to remove LATIN1 encoding to make it easier for Python CSV reader\n",
        "# You can do that yourself with:\n",
        "# iconv -f LATIN1 -t UTF8 training.1600000.processed.noemoticon.csv -o training_cleaned.csv\n",
        "# I then hosted it on my site to make it easier to use in this notebook\n",
        "\n",
        "!wget --no-check-certificate \\\n",
        "    https://storage.googleapis.com/laurencemoroney-blog.appspot.com/training_cleaned.csv \\\n",
        "    -O /tmp/training_cleaned.csv\n",
        "\n",
        "num_sentences = 0\n",
        "\n",
        "with open(\"/tmp/training_cleaned.csv\") as csvfile:\n",
        "    reader = csv.reader(csvfile, delimiter=',')\n",
        "    for row in reader:\n",
        "      # Your Code here. Create list items where the first item is the text, found in row[5], and the second is the label. Note that the label is a '0' or a '4' in the text. When it's the former, make\n",
        "      # your label to be 0, otherwise 1. Keep a count of the number of sentences in num_sentences\n",
        "        list_item=[]\n",
        "        # YOUR CODE HERE\n",
        "        list_item.append(row[5])\n",
        "        label = row[0]\n",
        "        if label == '0':\n",
        "          list_item.append(0)\n",
        "        else:\n",
        "          list_item.append(1)\n",
        "        num_sentences = num_sentences + 1\n",
        "        corpus.append(list_item)\n"
      ],
      "execution_count": 21,
      "outputs": [
        {
          "output_type": "stream",
          "text": [
            "--2020-08-23 11:26:47--  https://storage.googleapis.com/laurencemoroney-blog.appspot.com/training_cleaned.csv\n",
            "Resolving storage.googleapis.com (storage.googleapis.com)... 173.194.69.128, 173.194.79.128, 108.177.119.128, ...\n",
            "Connecting to storage.googleapis.com (storage.googleapis.com)|173.194.69.128|:443... connected.\n",
            "HTTP request sent, awaiting response... 200 OK\n",
            "Length: 238942690 (228M) [application/octet-stream]\n",
            "Saving to: ‘/tmp/training_cleaned.csv’\n",
            "\n",
            "/tmp/training_clean 100%[===================>] 227.87M  70.0MB/s    in 3.3s    \n",
            "\n",
            "2020-08-23 11:26:51 (70.0 MB/s) - ‘/tmp/training_cleaned.csv’ saved [238942690/238942690]\n",
            "\n"
          ],
          "name": "stdout"
        }
      ]
    },
    {
      "cell_type": "code",
      "metadata": {
        "colab_type": "code",
        "id": "3kxblBUjEUX-",
        "colab": {
          "base_uri": "https://localhost:8080/",
          "height": 88
        },
        "outputId": "078881f4-7099-46a0-a230-cdcbdea0f266"
      },
      "source": [
        "print(num_sentences)\n",
        "print(len(corpus))\n",
        "print(corpus[1])\n",
        "\n",
        "# Expected Output:\n",
        "# 1600000\n",
        "# 1600000\n",
        "# [\"is upset that he can't update his Facebook by texting it... and might cry as a result  School today also. Blah!\", 0]"
      ],
      "execution_count": 22,
      "outputs": [
        {
          "output_type": "stream",
          "text": [
            "1600000\n",
            "1600000\n",
            "[\"is upset that he can't update his Facebook by texting it... and might cry as a result  School today also. Blah!\", 0]\n"
          ],
          "name": "stdout"
        }
      ]
    },
    {
      "cell_type": "code",
      "metadata": {
        "colab_type": "code",
        "id": "ohOGz24lsNAD",
        "colab": {}
      },
      "source": [
        "sentences=[]\n",
        "labels=[]\n",
        "random.shuffle(corpus)\n",
        "for x in range(training_size):\n",
        "    sentences.append(corpus[x][0])\n",
        "    labels.append(corpus[x][1])\n",
        "\n",
        "tokenizer = Tokenizer()\n",
        "tokenizer.fit_on_texts(sentences)\n",
        "\n",
        "word_index = tokenizer.word_index\n",
        "vocab_size=len(word_index)\n",
        "\n",
        "sequences = tokenizer.texts_to_sequences(sentences)\n",
        "padded = pad_sequences(sequences, maxlen=max_length, padding=padding_type, truncating=trunc_type)\n",
        "\n",
        "split = int(test_portion * training_size)\n",
        "\n",
        "test_sequences = padded[0:split]\n",
        "training_sequences = padded[split:training_size]\n",
        "test_labels = labels[0:split]\n",
        "training_labels = labels[split:training_size]\n",
        "\n",
        "\n"
      ],
      "execution_count": 23,
      "outputs": []
    },
    {
      "cell_type": "code",
      "metadata": {
        "id": "ocXhfb1GFu08",
        "colab_type": "code",
        "colab": {}
      },
      "source": [
        "training_sequences = np.array(training_sequences)\n",
        "test_sequences = np.array(test_sequences)\n",
        "training_labels = np.array(training_labels)\n",
        "test_labels = np.array(test_labels)"
      ],
      "execution_count": 28,
      "outputs": []
    },
    {
      "cell_type": "code",
      "metadata": {
        "colab_type": "code",
        "id": "gIrtRem1En3N",
        "colab": {
          "base_uri": "https://localhost:8080/",
          "height": 51
        },
        "outputId": "5e334a37-a313-4aab-fc46-e31aafb07e53"
      },
      "source": [
        "print(vocab_size)\n",
        "print(word_index['i'])\n",
        "# Expected Output\n",
        "# 138858\n",
        "# 1"
      ],
      "execution_count": 24,
      "outputs": [
        {
          "output_type": "stream",
          "text": [
            "138583\n",
            "1\n"
          ],
          "name": "stdout"
        }
      ]
    },
    {
      "cell_type": "code",
      "metadata": {
        "colab_type": "code",
        "id": "C1zdgJkusRh0",
        "colab": {
          "base_uri": "https://localhost:8080/",
          "height": 224
        },
        "outputId": "b666eb99-7351-46f3-db34-6453fcf45ef7"
      },
      "source": [
        "# Note this is the 100 dimension version of GloVe from Stanford\n",
        "# I unzipped and hosted it on my site to make this notebook easier\n",
        "!wget --no-check-certificate \\\n",
        "    https://storage.googleapis.com/laurencemoroney-blog.appspot.com/glove.6B.100d.txt \\\n",
        "    -O /tmp/glove.6B.100d.txt\n",
        "\n",
        "embeddings_index = {};\n",
        "\n",
        "with open('/tmp/glove.6B.100d.txt') as f:\n",
        "    for line in f:\n",
        "        values = line.split();\n",
        "        word = values[0];\n",
        "        coefs = np.asarray(values[1:], dtype='float32');\n",
        "        embeddings_index[word] = coefs;\n",
        "\n",
        "embeddings_matrix = np.zeros((vocab_size+1, embedding_dim));\n",
        "\n",
        "for word, i in word_index.items():\n",
        "    embedding_vector = embeddings_index.get(word);\n",
        "    if embedding_vector is not None:\n",
        "        embeddings_matrix[i] = embedding_vector;"
      ],
      "execution_count": 25,
      "outputs": [
        {
          "output_type": "stream",
          "text": [
            "--2020-08-23 11:27:09--  https://storage.googleapis.com/laurencemoroney-blog.appspot.com/glove.6B.100d.txt\n",
            "Resolving storage.googleapis.com (storage.googleapis.com)... 172.217.218.128, 108.177.119.128, 108.177.126.128, ...\n",
            "Connecting to storage.googleapis.com (storage.googleapis.com)|172.217.218.128|:443... connected.\n",
            "HTTP request sent, awaiting response... 200 OK\n",
            "Length: 347116733 (331M) [text/plain]\n",
            "Saving to: ‘/tmp/glove.6B.100d.txt’\n",
            "\n",
            "/tmp/glove.6B.100d. 100%[===================>] 331.04M   100MB/s    in 3.3s    \n",
            "\n",
            "2020-08-23 11:27:13 (100 MB/s) - ‘/tmp/glove.6B.100d.txt’ saved [347116733/347116733]\n",
            "\n"
          ],
          "name": "stdout"
        }
      ]
    },
    {
      "cell_type": "code",
      "metadata": {
        "colab_type": "code",
        "id": "71NLk_lpFLNt",
        "colab": {
          "base_uri": "https://localhost:8080/",
          "height": 34
        },
        "outputId": "ab6b6164-46fd-46bb-acb6-0a9f26bad9a5"
      },
      "source": [
        "print(len(embeddings_matrix))\n",
        "# Expected Output\n",
        "# 138859"
      ],
      "execution_count": 26,
      "outputs": [
        {
          "output_type": "stream",
          "text": [
            "138584\n"
          ],
          "name": "stdout"
        }
      ]
    },
    {
      "cell_type": "code",
      "metadata": {
        "colab_type": "code",
        "id": "iKKvbuEBOGFz",
        "colab": {
          "base_uri": "https://localhost:8080/",
          "height": 1000
        },
        "outputId": "108d1685-0dba-42bf-f1be-95c7a9d8b6d4"
      },
      "source": [
        "model = tf.keras.Sequential([\n",
        "    tf.keras.layers.Embedding(vocab_size+1, embedding_dim, input_length=max_length, weights=[embeddings_matrix], trainable=False),\n",
        "    # YOUR CODE HERE - experiment with combining different types, such as convolutions and LSTMs\n",
        "    tf.keras.layers.Dropout(0.2),\n",
        "    tf.keras.layers.Conv1D(64,5,activation='relu'),\n",
        "    tf.keras.layers.MaxPooling1D(pool_size=4),\n",
        "    #tf.keras.layers.Bidirectional(tf.keras.layers.LSTM(64)),\n",
        "    tf.keras.layers.LSTM(64),\n",
        "    #tf.keras.layers.Dense(64, activation='relu'),\n",
        "    tf.keras.layers.Dense(1, activation='sigmoid')\n",
        "])\n",
        "model.compile(loss='binary_crossentropy', optimizer = 'adam', metrics=['accuracy'])\n",
        "model.summary()\n",
        "\n",
        "num_epochs = 50\n",
        "history = model.fit(training_sequences, training_labels, epochs=num_epochs, validation_data=(test_sequences, test_labels), verbose=2)\n",
        "\n",
        "print(\"Training Complete\")\n"
      ],
      "execution_count": 35,
      "outputs": [
        {
          "output_type": "stream",
          "text": [
            "Model: \"sequential_4\"\n",
            "_________________________________________________________________\n",
            "Layer (type)                 Output Shape              Param #   \n",
            "=================================================================\n",
            "embedding_4 (Embedding)      (None, 16, 100)           13858400  \n",
            "_________________________________________________________________\n",
            "dropout_2 (Dropout)          (None, 16, 100)           0         \n",
            "_________________________________________________________________\n",
            "conv1d_1 (Conv1D)            (None, 12, 64)            32064     \n",
            "_________________________________________________________________\n",
            "max_pooling1d_1 (MaxPooling1 (None, 3, 64)             0         \n",
            "_________________________________________________________________\n",
            "lstm_4 (LSTM)                (None, 64)                33024     \n",
            "_________________________________________________________________\n",
            "dense_8 (Dense)              (None, 1)                 65        \n",
            "=================================================================\n",
            "Total params: 13,923,553\n",
            "Trainable params: 65,153\n",
            "Non-trainable params: 13,858,400\n",
            "_________________________________________________________________\n",
            "Epoch 1/50\n",
            "4500/4500 - 15s - loss: 0.5678 - accuracy: 0.6989 - val_loss: 0.5274 - val_accuracy: 0.7312\n",
            "Epoch 2/50\n",
            "4500/4500 - 14s - loss: 0.5276 - accuracy: 0.7312 - val_loss: 0.5121 - val_accuracy: 0.7469\n",
            "Epoch 3/50\n",
            "4500/4500 - 14s - loss: 0.5105 - accuracy: 0.7424 - val_loss: 0.5019 - val_accuracy: 0.7519\n",
            "Epoch 4/50\n",
            "4500/4500 - 15s - loss: 0.5012 - accuracy: 0.7506 - val_loss: 0.5009 - val_accuracy: 0.7514\n",
            "Epoch 5/50\n",
            "4500/4500 - 14s - loss: 0.4921 - accuracy: 0.7568 - val_loss: 0.4998 - val_accuracy: 0.7521\n",
            "Epoch 6/50\n",
            "4500/4500 - 14s - loss: 0.4846 - accuracy: 0.7614 - val_loss: 0.4966 - val_accuracy: 0.7563\n",
            "Epoch 7/50\n",
            "4500/4500 - 14s - loss: 0.4806 - accuracy: 0.7635 - val_loss: 0.4963 - val_accuracy: 0.7541\n",
            "Epoch 8/50\n",
            "4500/4500 - 14s - loss: 0.4748 - accuracy: 0.7675 - val_loss: 0.4987 - val_accuracy: 0.7509\n",
            "Epoch 9/50\n",
            "4500/4500 - 14s - loss: 0.4704 - accuracy: 0.7720 - val_loss: 0.4994 - val_accuracy: 0.7541\n",
            "Epoch 10/50\n",
            "4500/4500 - 14s - loss: 0.4662 - accuracy: 0.7727 - val_loss: 0.5100 - val_accuracy: 0.7528\n",
            "Epoch 11/50\n",
            "4500/4500 - 14s - loss: 0.4628 - accuracy: 0.7750 - val_loss: 0.5005 - val_accuracy: 0.7559\n",
            "Epoch 12/50\n",
            "4500/4500 - 14s - loss: 0.4609 - accuracy: 0.7761 - val_loss: 0.4996 - val_accuracy: 0.7523\n",
            "Epoch 13/50\n",
            "4500/4500 - 14s - loss: 0.4560 - accuracy: 0.7792 - val_loss: 0.5050 - val_accuracy: 0.7538\n",
            "Epoch 14/50\n",
            "4500/4500 - 14s - loss: 0.4547 - accuracy: 0.7808 - val_loss: 0.5042 - val_accuracy: 0.7554\n",
            "Epoch 15/50\n",
            "4500/4500 - 14s - loss: 0.4531 - accuracy: 0.7807 - val_loss: 0.5041 - val_accuracy: 0.7551\n",
            "Epoch 16/50\n",
            "4500/4500 - 14s - loss: 0.4511 - accuracy: 0.7825 - val_loss: 0.5027 - val_accuracy: 0.7541\n",
            "Epoch 17/50\n",
            "4500/4500 - 14s - loss: 0.4490 - accuracy: 0.7834 - val_loss: 0.5047 - val_accuracy: 0.7571\n",
            "Epoch 18/50\n",
            "4500/4500 - 14s - loss: 0.4463 - accuracy: 0.7849 - val_loss: 0.5074 - val_accuracy: 0.7563\n",
            "Epoch 19/50\n",
            "4500/4500 - 15s - loss: 0.4453 - accuracy: 0.7864 - val_loss: 0.5089 - val_accuracy: 0.7514\n",
            "Epoch 20/50\n",
            "4500/4500 - 15s - loss: 0.4448 - accuracy: 0.7873 - val_loss: 0.5064 - val_accuracy: 0.7532\n",
            "Epoch 21/50\n",
            "4500/4500 - 14s - loss: 0.4432 - accuracy: 0.7867 - val_loss: 0.5069 - val_accuracy: 0.7559\n",
            "Epoch 22/50\n",
            "4500/4500 - 14s - loss: 0.4408 - accuracy: 0.7884 - val_loss: 0.5113 - val_accuracy: 0.7546\n",
            "Epoch 23/50\n",
            "4500/4500 - 14s - loss: 0.4404 - accuracy: 0.7892 - val_loss: 0.5084 - val_accuracy: 0.7513\n",
            "Epoch 24/50\n",
            "4500/4500 - 14s - loss: 0.4397 - accuracy: 0.7902 - val_loss: 0.5069 - val_accuracy: 0.7552\n",
            "Epoch 25/50\n",
            "4500/4500 - 14s - loss: 0.4381 - accuracy: 0.7897 - val_loss: 0.5076 - val_accuracy: 0.7561\n",
            "Epoch 26/50\n",
            "4500/4500 - 14s - loss: 0.4377 - accuracy: 0.7903 - val_loss: 0.5103 - val_accuracy: 0.7566\n",
            "Epoch 27/50\n",
            "4500/4500 - 14s - loss: 0.4378 - accuracy: 0.7903 - val_loss: 0.5219 - val_accuracy: 0.7482\n",
            "Epoch 28/50\n",
            "4500/4500 - 14s - loss: 0.4378 - accuracy: 0.7899 - val_loss: 0.5161 - val_accuracy: 0.7511\n",
            "Epoch 29/50\n",
            "4500/4500 - 14s - loss: 0.4382 - accuracy: 0.7911 - val_loss: 0.5117 - val_accuracy: 0.7541\n",
            "Epoch 30/50\n",
            "4500/4500 - 14s - loss: 0.4351 - accuracy: 0.7921 - val_loss: 0.5066 - val_accuracy: 0.7554\n",
            "Epoch 31/50\n",
            "4500/4500 - 14s - loss: 0.4348 - accuracy: 0.7921 - val_loss: 0.5135 - val_accuracy: 0.7554\n",
            "Epoch 32/50\n",
            "4500/4500 - 14s - loss: 0.4344 - accuracy: 0.7928 - val_loss: 0.5164 - val_accuracy: 0.7544\n",
            "Epoch 33/50\n",
            "4500/4500 - 14s - loss: 0.4330 - accuracy: 0.7935 - val_loss: 0.5130 - val_accuracy: 0.7502\n",
            "Epoch 34/50\n",
            "4500/4500 - 14s - loss: 0.4331 - accuracy: 0.7937 - val_loss: 0.5151 - val_accuracy: 0.7535\n",
            "Epoch 35/50\n",
            "4500/4500 - 14s - loss: 0.4336 - accuracy: 0.7931 - val_loss: 0.5121 - val_accuracy: 0.7512\n",
            "Epoch 36/50\n",
            "4500/4500 - 14s - loss: 0.4321 - accuracy: 0.7940 - val_loss: 0.5129 - val_accuracy: 0.7506\n",
            "Epoch 37/50\n",
            "4500/4500 - 14s - loss: 0.4329 - accuracy: 0.7934 - val_loss: 0.5215 - val_accuracy: 0.7495\n",
            "Epoch 38/50\n",
            "4500/4500 - 14s - loss: 0.4308 - accuracy: 0.7942 - val_loss: 0.5176 - val_accuracy: 0.7482\n",
            "Epoch 39/50\n",
            "4500/4500 - 14s - loss: 0.4294 - accuracy: 0.7958 - val_loss: 0.5129 - val_accuracy: 0.7526\n",
            "Epoch 40/50\n",
            "4500/4500 - 14s - loss: 0.4319 - accuracy: 0.7943 - val_loss: 0.5136 - val_accuracy: 0.7519\n",
            "Epoch 41/50\n",
            "4500/4500 - 15s - loss: 0.4310 - accuracy: 0.7938 - val_loss: 0.5103 - val_accuracy: 0.7544\n",
            "Epoch 42/50\n",
            "4500/4500 - 15s - loss: 0.4313 - accuracy: 0.7946 - val_loss: 0.5135 - val_accuracy: 0.7548\n",
            "Epoch 43/50\n",
            "4500/4500 - 14s - loss: 0.4295 - accuracy: 0.7945 - val_loss: 0.5156 - val_accuracy: 0.7516\n",
            "Epoch 44/50\n",
            "4500/4500 - 14s - loss: 0.4294 - accuracy: 0.7955 - val_loss: 0.5152 - val_accuracy: 0.7517\n",
            "Epoch 45/50\n",
            "4500/4500 - 14s - loss: 0.4283 - accuracy: 0.7966 - val_loss: 0.5200 - val_accuracy: 0.7546\n",
            "Epoch 46/50\n",
            "4500/4500 - 14s - loss: 0.4295 - accuracy: 0.7952 - val_loss: 0.5189 - val_accuracy: 0.7473\n",
            "Epoch 47/50\n",
            "4500/4500 - 14s - loss: 0.4292 - accuracy: 0.7952 - val_loss: 0.5191 - val_accuracy: 0.7496\n",
            "Epoch 48/50\n",
            "4500/4500 - 14s - loss: 0.4284 - accuracy: 0.7959 - val_loss: 0.5185 - val_accuracy: 0.7500\n",
            "Epoch 49/50\n",
            "4500/4500 - 14s - loss: 0.4289 - accuracy: 0.7960 - val_loss: 0.5226 - val_accuracy: 0.7505\n",
            "Epoch 50/50\n",
            "4500/4500 - 14s - loss: 0.4274 - accuracy: 0.7961 - val_loss: 0.5196 - val_accuracy: 0.7520\n",
            "Training Complete\n"
          ],
          "name": "stdout"
        }
      ]
    },
    {
      "cell_type": "code",
      "metadata": {
        "colab_type": "code",
        "id": "qxju4ItJKO8F",
        "colab": {
          "base_uri": "https://localhost:8080/",
          "height": 607
        },
        "outputId": "0b72f513-f2a9-4ebb-8575-9979a14d11cb"
      },
      "source": [
        "import matplotlib.image  as mpimg\n",
        "import matplotlib.pyplot as plt\n",
        "\n",
        "#-----------------------------------------------------------\n",
        "# Retrieve a list of list results on training and test data\n",
        "# sets for each training epoch\n",
        "#-----------------------------------------------------------\n",
        "acc=history.history['accuracy']\n",
        "val_acc=history.history['val_accuracy']\n",
        "loss=history.history['loss']\n",
        "val_loss=history.history['val_loss']\n",
        "\n",
        "epochs=range(len(acc)) # Get number of epochs\n",
        "\n",
        "#------------------------------------------------\n",
        "# Plot training and validation accuracy per epoch\n",
        "#------------------------------------------------\n",
        "plt.plot(epochs, acc, 'r')\n",
        "plt.plot(epochs, val_acc, 'b')\n",
        "plt.title('Training and validation accuracy')\n",
        "plt.xlabel(\"Epochs\")\n",
        "plt.ylabel(\"Accuracy\")\n",
        "plt.legend([\"Accuracy\", \"Validation Accuracy\"])\n",
        "\n",
        "plt.figure()\n",
        "\n",
        "#------------------------------------------------\n",
        "# Plot training and validation loss per epoch\n",
        "#------------------------------------------------\n",
        "plt.plot(epochs, loss, 'r')\n",
        "plt.plot(epochs, val_loss, 'b')\n",
        "plt.title('Training and validation loss')\n",
        "plt.xlabel(\"Epochs\")\n",
        "plt.ylabel(\"Loss\")\n",
        "plt.legend([\"Loss\", \"Validation Loss\"])\n",
        "\n",
        "plt.figure()\n",
        "\n",
        "\n",
        "# Expected Output\n",
        "# A chart where the validation loss does not increase sharply!"
      ],
      "execution_count": 30,
      "outputs": [
        {
          "output_type": "execute_result",
          "data": {
            "text/plain": [
              "<Figure size 432x288 with 0 Axes>"
            ]
          },
          "metadata": {
            "tags": []
          },
          "execution_count": 30
        },
        {
          "output_type": "display_data",
          "data": {
            "image/png": "[encoded data removed]",
            "text/plain": [
              "<Figure size 432x288 with 1 Axes>"
            ]
          },
          "metadata": {
            "tags": [],
            "needs_background": "light"
          }
        },
        {
          "output_type": "display_data",
          "data": {
            "image/png": "[encoded data removed]",
            "text/plain": [
              "<Figure size 432x288 with 1 Axes>"
            ]
          },
          "metadata": {
            "tags": [],
            "needs_background": "light"
          }
        },
        {
          "output_type": "display_data",
          "data": {
            "text/plain": [
              "<Figure size 432x288 with 0 Axes>"
            ]
          },
          "metadata": {
            "tags": []
          }
        }
      ]
    },
    {
      "cell_type": "code",
      "metadata": {
        "id": "4WH07qMcNCMh",
        "colab_type": "code",
        "colab": {}
      },
      "source": [
        ""
      ],
      "execution_count": null,
      "outputs": []
    }
  ]
}